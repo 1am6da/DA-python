{
 "cells": [
  {
   "cell_type": "markdown",
   "metadata": {},
   "source": [
    "### Descriptive statistics on mortality at Russia\n",
    "\n",
    "Dataset **deaths.csv** contains absolute number of deaths by Russian region, which are based on death registration information collected by the State Statistic Servise, count all age group and any cauce of deaths for 2015 to 2020 period\n",
    "\n",
    "\n"
   ]
  },
  {
   "cell_type": "code",
   "execution_count": 1,
   "metadata": {
    "id": "xC4r7EPdwVOp"
   },
   "outputs": [],
   "source": [
    "# Nessesary imports\n",
    "import matplotlib.pyplot as plt\n",
    "import pandas as pd\n",
    "\n",
    "plt.style.use('ggplot')\n",
    "plt.rcParams['figure.figsize'] = (10, 5)\n",
    "pd.plotting.register_matplotlib_converters()"
   ]
  },
  {
   "cell_type": "code",
   "execution_count": 15,
   "metadata": {},
   "outputs": [
    {
     "data": {
      "text/html": [
       "<div>\n",
       "<style scoped>\n",
       "    .dataframe tbody tr th:only-of-type {\n",
       "        vertical-align: middle;\n",
       "    }\n",
       "\n",
       "    .dataframe tbody tr th {\n",
       "        vertical-align: top;\n",
       "    }\n",
       "\n",
       "    .dataframe thead th {\n",
       "        text-align: right;\n",
       "    }\n",
       "</style>\n",
       "<table border=\"1\" class=\"dataframe\">\n",
       "  <thead>\n",
       "    <tr style=\"text-align: right;\">\n",
       "      <th></th>\n",
       "      <th>territory</th>\n",
       "      <th>id_indicator</th>\n",
       "      <th>territory.ccube.0</th>\n",
       "      <th>territory.ccube.1</th>\n",
       "      <th>territory.ccube.2</th>\n",
       "      <th>territory.ccube.attr.0</th>\n",
       "      <th>value</th>\n",
       "    </tr>\n",
       "    <tr>\n",
       "      <th>period</th>\n",
       "      <th></th>\n",
       "      <th></th>\n",
       "      <th></th>\n",
       "      <th></th>\n",
       "      <th></th>\n",
       "      <th></th>\n",
       "      <th></th>\n",
       "    </tr>\n",
       "  </thead>\n",
       "  <tbody>\n",
       "    <tr>\n",
       "      <th>2020-02-28</th>\n",
       "      <td>10000000</td>\n",
       "      <td>819</td>\n",
       "      <td>Российская Федерация</td>\n",
       "      <td>Дальневосточный федеральный округ</td>\n",
       "      <td>Амурская область</td>\n",
       "      <td>3</td>\n",
       "      <td>803</td>\n",
       "    </tr>\n",
       "    <tr>\n",
       "      <th>2020-02-28</th>\n",
       "      <td>44000000</td>\n",
       "      <td>819</td>\n",
       "      <td>Российская Федерация</td>\n",
       "      <td>Дальневосточный федеральный округ</td>\n",
       "      <td>Магаданская область</td>\n",
       "      <td>3</td>\n",
       "      <td>104</td>\n",
       "    </tr>\n",
       "    <tr>\n",
       "      <th>2020-02-28</th>\n",
       "      <td>64000000</td>\n",
       "      <td>819</td>\n",
       "      <td>Российская Федерация</td>\n",
       "      <td>Дальневосточный федеральный округ</td>\n",
       "      <td>Сахалинская область</td>\n",
       "      <td>3</td>\n",
       "      <td>460</td>\n",
       "    </tr>\n",
       "    <tr>\n",
       "      <th>2020-02-28</th>\n",
       "      <td>99000000</td>\n",
       "      <td>819</td>\n",
       "      <td>Российская Федерация</td>\n",
       "      <td>Дальневосточный федеральный округ</td>\n",
       "      <td>Еврейская автономная область</td>\n",
       "      <td>3</td>\n",
       "      <td>172</td>\n",
       "    </tr>\n",
       "    <tr>\n",
       "      <th>2020-02-28</th>\n",
       "      <td>77000000</td>\n",
       "      <td>819</td>\n",
       "      <td>Российская Федерация</td>\n",
       "      <td>Дальневосточный федеральный округ</td>\n",
       "      <td>Чукотский автономный округ</td>\n",
       "      <td>3</td>\n",
       "      <td>31</td>\n",
       "    </tr>\n",
       "  </tbody>\n",
       "</table>\n",
       "</div>"
      ],
      "text/plain": [
       "            territory  id_indicator     territory.ccube.0  \\\n",
       "period                                                      \n",
       "2020-02-28   10000000           819  Российская Федерация   \n",
       "2020-02-28   44000000           819  Российская Федерация   \n",
       "2020-02-28   64000000           819  Российская Федерация   \n",
       "2020-02-28   99000000           819  Российская Федерация   \n",
       "2020-02-28   77000000           819  Российская Федерация   \n",
       "\n",
       "                            territory.ccube.1             territory.ccube.2  \\\n",
       "period                                                                        \n",
       "2020-02-28  Дальневосточный федеральный округ              Амурская область   \n",
       "2020-02-28  Дальневосточный федеральный округ           Магаданская область   \n",
       "2020-02-28  Дальневосточный федеральный округ           Сахалинская область   \n",
       "2020-02-28  Дальневосточный федеральный округ  Еврейская автономная область   \n",
       "2020-02-28  Дальневосточный федеральный округ    Чукотский автономный округ   \n",
       "\n",
       "            territory.ccube.attr.0  value  \n",
       "period                                     \n",
       "2020-02-28                       3    803  \n",
       "2020-02-28                       3    104  \n",
       "2020-02-28                       3    460  \n",
       "2020-02-28                       3    172  \n",
       "2020-02-28                       3     31  "
      ]
     },
     "execution_count": 15,
     "metadata": {},
     "output_type": "execute_result"
    }
   ],
   "source": [
    "# Load the data file\n",
    "data = pd.read_csv('../data/deaths.csv', parse_dates=True, index_col='period')\n",
    "data.tail(5)"
   ]
  },
  {
   "cell_type": "code",
   "execution_count": 16,
   "metadata": {
    "scrolled": false
   },
   "outputs": [
    {
     "data": {
      "text/html": [
       "<div>\n",
       "<style scoped>\n",
       "    .dataframe tbody tr th:only-of-type {\n",
       "        vertical-align: middle;\n",
       "    }\n",
       "\n",
       "    .dataframe tbody tr th {\n",
       "        vertical-align: top;\n",
       "    }\n",
       "\n",
       "    .dataframe thead th {\n",
       "        text-align: right;\n",
       "    }\n",
       "</style>\n",
       "<table border=\"1\" class=\"dataframe\">\n",
       "  <thead>\n",
       "    <tr style=\"text-align: right;\">\n",
       "      <th></th>\n",
       "      <th>district</th>\n",
       "      <th>subject</th>\n",
       "      <th>deaths</th>\n",
       "    </tr>\n",
       "    <tr>\n",
       "      <th>period</th>\n",
       "      <th></th>\n",
       "      <th></th>\n",
       "      <th></th>\n",
       "    </tr>\n",
       "  </thead>\n",
       "  <tbody>\n",
       "    <tr>\n",
       "      <th>2020-02-28</th>\n",
       "      <td>Дальневосточный федеральный округ</td>\n",
       "      <td>Амурская область</td>\n",
       "      <td>803</td>\n",
       "    </tr>\n",
       "    <tr>\n",
       "      <th>2020-02-28</th>\n",
       "      <td>Дальневосточный федеральный округ</td>\n",
       "      <td>Магаданская область</td>\n",
       "      <td>104</td>\n",
       "    </tr>\n",
       "    <tr>\n",
       "      <th>2020-02-28</th>\n",
       "      <td>Дальневосточный федеральный округ</td>\n",
       "      <td>Сахалинская область</td>\n",
       "      <td>460</td>\n",
       "    </tr>\n",
       "    <tr>\n",
       "      <th>2020-02-28</th>\n",
       "      <td>Дальневосточный федеральный округ</td>\n",
       "      <td>Еврейская автономная область</td>\n",
       "      <td>172</td>\n",
       "    </tr>\n",
       "    <tr>\n",
       "      <th>2020-02-28</th>\n",
       "      <td>Дальневосточный федеральный округ</td>\n",
       "      <td>Чукотский автономный округ</td>\n",
       "      <td>31</td>\n",
       "    </tr>\n",
       "  </tbody>\n",
       "</table>\n",
       "</div>"
      ],
      "text/plain": [
       "                                     district                       subject  \\\n",
       "period                                                                        \n",
       "2020-02-28  Дальневосточный федеральный округ              Амурская область   \n",
       "2020-02-28  Дальневосточный федеральный округ           Магаданская область   \n",
       "2020-02-28  Дальневосточный федеральный округ           Сахалинская область   \n",
       "2020-02-28  Дальневосточный федеральный округ  Еврейская автономная область   \n",
       "2020-02-28  Дальневосточный федеральный округ    Чукотский автономный округ   \n",
       "\n",
       "            deaths  \n",
       "period              \n",
       "2020-02-28     803  \n",
       "2020-02-28     104  \n",
       "2020-02-28     460  \n",
       "2020-02-28     172  \n",
       "2020-02-28      31  "
      ]
     },
     "execution_count": 16,
     "metadata": {},
     "output_type": "execute_result"
    }
   ],
   "source": [
    "# Removing redundant and renaming columns\n",
    "data.drop(columns=['territory',  'id_indicator', 'territory.ccube.0','territory.ccube.attr.0'], inplace=True)\n",
    "data.rename(columns={'territory.ccube.1':'district', 'territory.ccube.2':'subject', 'value':'deaths'}, inplace=True)\n",
    "data.tail(5)"
   ]
  },
  {
   "cell_type": "code",
   "execution_count": 156,
   "metadata": {},
   "outputs": [
    {
     "data": {
      "text/html": [
       "<div>\n",
       "<style scoped>\n",
       "    .dataframe tbody tr th:only-of-type {\n",
       "        vertical-align: middle;\n",
       "    }\n",
       "\n",
       "    .dataframe tbody tr th {\n",
       "        vertical-align: top;\n",
       "    }\n",
       "\n",
       "    .dataframe thead th {\n",
       "        text-align: right;\n",
       "    }\n",
       "</style>\n",
       "<table border=\"1\" class=\"dataframe\">\n",
       "  <thead>\n",
       "    <tr style=\"text-align: right;\">\n",
       "      <th></th>\n",
       "      <th></th>\n",
       "      <th></th>\n",
       "      <th>deaths</th>\n",
       "    </tr>\n",
       "    <tr>\n",
       "      <th>period</th>\n",
       "      <th>district</th>\n",
       "      <th>subject</th>\n",
       "      <th></th>\n",
       "    </tr>\n",
       "  </thead>\n",
       "  <tbody>\n",
       "    <tr>\n",
       "      <th rowspan=\"5\" valign=\"top\">2015-01</th>\n",
       "      <th rowspan=\"5\" valign=\"top\">Дальневосточный федеральный округ</th>\n",
       "      <th>Амурская область</th>\n",
       "      <td>1058</td>\n",
       "    </tr>\n",
       "    <tr>\n",
       "      <th>Еврейская автономная область</th>\n",
       "      <td>206</td>\n",
       "    </tr>\n",
       "    <tr>\n",
       "      <th>Забайкальский край</th>\n",
       "      <td>1328</td>\n",
       "    </tr>\n",
       "    <tr>\n",
       "      <th>Камчатский край</th>\n",
       "      <td>318</td>\n",
       "    </tr>\n",
       "    <tr>\n",
       "      <th>Магаданская область</th>\n",
       "      <td>144</td>\n",
       "    </tr>\n",
       "    <tr>\n",
       "      <th>...</th>\n",
       "      <th>...</th>\n",
       "      <th>...</th>\n",
       "      <td>...</td>\n",
       "    </tr>\n",
       "    <tr>\n",
       "      <th rowspan=\"5\" valign=\"top\">2020-12</th>\n",
       "      <th rowspan=\"5\" valign=\"top\">Южный федеральный округ</th>\n",
       "      <th>Республика Адыгея</th>\n",
       "      <td>786</td>\n",
       "    </tr>\n",
       "    <tr>\n",
       "      <th>Республика Калмыкия</th>\n",
       "      <td>334</td>\n",
       "    </tr>\n",
       "    <tr>\n",
       "      <th>Республика Крым</th>\n",
       "      <td>3851</td>\n",
       "    </tr>\n",
       "    <tr>\n",
       "      <th>Ростовская область</th>\n",
       "      <td>7149</td>\n",
       "    </tr>\n",
       "    <tr>\n",
       "      <th>Севастополь</th>\n",
       "      <td>809</td>\n",
       "    </tr>\n",
       "  </tbody>\n",
       "</table>\n",
       "<p>6120 rows × 1 columns</p>\n",
       "</div>"
      ],
      "text/plain": [
       "                                                                        deaths\n",
       "period  district                          subject                             \n",
       "2015-01 Дальневосточный федеральный округ Амурская область                1058\n",
       "                                          Еврейская автономная область     206\n",
       "                                          Забайкальский край              1328\n",
       "                                          Камчатский край                  318\n",
       "                                          Магаданская область              144\n",
       "...                                                                        ...\n",
       "2020-12 Южный федеральный округ           Республика Адыгея                786\n",
       "                                          Республика Калмыкия              334\n",
       "                                          Республика Крым                 3851\n",
       "                                          Ростовская область              7149\n",
       "                                          Севастополь                      809\n",
       "\n",
       "[6120 rows x 1 columns]"
      ]
     },
     "execution_count": 156,
     "metadata": {},
     "output_type": "execute_result"
    }
   ],
   "source": [
    "# Convert the index to PeriodIndex instead of DateTimeIndex\n",
    "# since the number of deaths is per period, not per point in time, \n",
    "# then group by month, district and subject\n",
    "deaths = data.set_index(data.index.to_period('M')).groupby([pd.Grouper(freq='M'), 'district','subject']).sum()\n",
    "deaths\n"
   ]
  },
  {
   "cell_type": "code",
   "execution_count": 158,
   "metadata": {},
   "outputs": [
    {
     "data": {
      "text/plain": [
       "<AxesSubplot:xlabel='period'>"
      ]
     },
     "execution_count": 158,
     "metadata": {},
     "output_type": "execute_result"
    },
    {
     "data": {
      "image/png": "[encoded data removed]",
      "text/plain": [
       "<Figure size 720x360 with 1 Axes>"
      ]
     },
     "metadata": {},
     "output_type": "display_data"
    }
   ],
   "source": [
    "deaths.groupby(['period']).sum().plot(legend=None)"
   ]
  },
  {
   "cell_type": "markdown",
   "metadata": {},
   "source": [
    "The plot shows the total number of number of death on all country at 2015 to 2020.<br><br>\n",
    "At first glance, first and end 2020 include spikes in the data: over __280,000__ deaths in start 2020 and over __240,000__ in end! <br>\n",
    "This trend might be a bit clearer if we use a average: for each month 2020 we'll take the average at this month for 5-year period :"
   ]
  },
  {
   "cell_type": "code",
   "execution_count": 163,
   "metadata": {},
   "outputs": [
    {
     "data": {
      "image/png": "[encoded data removed]",
      "text/plain": [
       "<Figure size 720x360 with 1 Axes>"
      ]
     },
     "metadata": {},
     "output_type": "display_data"
    }
   ],
   "source": [
    "deaths['month'] = deaths.index.get_level_values(0).month\n",
    "average = deaths.loc[:pd.Period('2019-12')].groupby('month').sum()\n",
    "average['deaths'] = average['deaths']/5\n",
    "ax = average.join(\n",
    "    deaths.loc[pd.Period('2020-01'):].groupby('month').sum(),\n",
    "    how='inner',\n",
    "    lsuffix='_l', \n",
    "    rsuffix='_r'\n",
    ").plot(ylabel = 'Number of deaths')\n",
    "ax.legend(['average for 2015-2019','2020']);"
   ]
  },
  {
   "cell_type": "code",
   "execution_count": null,
   "metadata": {},
   "outputs": [],
   "source": []
  }
 ],
 "metadata": {
  "colab": {
   "collapsed_sections": [],
   "name": "Untitled0.ipynb",
   "provenance": []
  },
  "kernelspec": {
   "display_name": "Python 3 (ipykernel)",
   "language": "python",
   "name": "python3"
  },
  "language_info": {
   "codemirror_mode": {
    "name": "ipython",
    "version": 3
   },
   "file_extension": ".py",
   "mimetype": "text/x-python",
   "name": "python",
   "nbconvert_exporter": "python",
   "pygments_lexer": "ipython3",
   "version": "3.10.2"
  }
 },
 "nbformat": 4,
 "nbformat_minor": 1
}
